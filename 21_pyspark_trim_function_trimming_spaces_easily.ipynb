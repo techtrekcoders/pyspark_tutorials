{
 "cells": [
  {
   "cell_type": "markdown",
   "metadata": {
    "application/vnd.databricks.v1+cell": {
     "cellMetadata": {},
     "inputWidgets": {},
     "nuid": "37cb9b4c-e670-46a0-8d38-2143c5c4573a",
     "showTitle": false,
     "title": ""
    }
   },
   "source": [
    "# PySpark SQL trim(), ltrim(), rtrim() Functions: Trimming Spaces Easily"
   ]
  },
  {
   "cell_type": "markdown",
   "metadata": {
    "application/vnd.databricks.v1+cell": {
     "cellMetadata": {},
     "inputWidgets": {},
     "nuid": "119ec6a4-7055-410a-9cf9-b12ca1717fc0",
     "showTitle": false,
     "title": ""
    }
   },
   "source": [
    "## Introduction to Trimming Functions\n",
    "\n",
    "The `trim()`, `ltrim()`, and `rtrim()` functions in PySpark are used to remove unwanted spaces from strings:\n",
    "\n",
    "- **`trim()`** removes leading and trailing spaces.\n",
    "- **`ltrim()`** removes only leading (left) spaces.\n",
    "- **`rtrim()`** removes only trailing (right) spaces.\n",
    "\n",
    "These functions are essential for cleaning up string data, especially when working with user inputs, text data, or fields prone to extra spaces.\n"
   ]
  },
  {
   "cell_type": "markdown",
   "metadata": {
    "application/vnd.databricks.v1+cell": {
     "cellMetadata": {},
     "inputWidgets": {},
     "nuid": "3fbd4269-d6ed-4e84-a252-8457001d167d",
     "showTitle": false,
     "title": ""
    }
   },
   "source": [
    "## Basic Syntax:"
   ]
  },
  {
   "cell_type": "markdown",
   "metadata": {
    "application/vnd.databricks.v1+cell": {
     "cellMetadata": {},
     "inputWidgets": {},
     "nuid": "c9ddb3d4-a709-4ec5-8433-57b82bc2c900",
     "showTitle": false,
     "title": ""
    }
   },
   "source": [
    "```\n",
    "from pyspark.sql.functions import trim, ltrim, rtrim\n",
    "\n",
    "DataFrame.select(trim(column).alias(\"trimmed_column\"))\n",
    "DataFrame.select(ltrim(column).alias(\"left_trimmed_column\"))\n",
    "DataFrame.select(rtrim(column).alias(\"right_trimmed_column\"))\n",
    "```\n"
   ]
  },
  {
   "cell_type": "markdown",
   "metadata": {
    "application/vnd.databricks.v1+cell": {
     "cellMetadata": {},
     "inputWidgets": {},
     "nuid": "6f09bb99-56f9-49f4-8027-943e9bcb469e",
     "showTitle": false,
     "title": ""
    }
   },
   "source": [
    "## Why Use Trimming Functions?\n",
    "\n",
    "- Removing extra spaces ensures that string values are clean and ready for comparison, display, or further processing.\n",
    "- Trimming is often used in data cleaning pipelines, especially when dealing with inconsistent string data that may have spaces accidentally added during entry or manipulation.\n"
   ]
  },
  {
   "cell_type": "markdown",
   "metadata": {
    "application/vnd.databricks.v1+cell": {
     "cellMetadata": {},
     "inputWidgets": {},
     "nuid": "6c03e6ae-e819-42c6-ac37-14e4a7418a68",
     "showTitle": false,
     "title": ""
    }
   },
   "source": [
    "## Practical Examples"
   ]
  },
  {
   "cell_type": "markdown",
   "metadata": {
    "application/vnd.databricks.v1+cell": {
     "cellMetadata": {},
     "inputWidgets": {},
     "nuid": "bf601a19-a2be-4981-8977-72bb54144e07",
     "showTitle": false,
     "title": ""
    }
   },
   "source": [
    "### 1. Trimming Leading and Trailing Spaces\n",
    "\n",
    "**Scenario**: You have a DataFrame where names contain extra spaces at the beginning and end, and you want to remove them using `trim()`.\n",
    "\n",
    "**Code Example**:"
   ]
  },
  {
   "cell_type": "code",
   "execution_count": 0,
   "metadata": {
    "application/vnd.databricks.v1+cell": {
     "cellMetadata": {
      "byteLimit": 2048000,
      "rowLimit": 10000
     },
     "inputWidgets": {},
     "nuid": "85ad5aed-91fc-43d8-b7c1-14c40e046d3a",
     "showTitle": false,
     "title": ""
    }
   },
   "outputs": [
    {
     "output_type": "stream",
     "name": "stdout",
     "output_type": "stream",
     "text": [
      "+------------+\n|trimmed_name|\n+------------+\n|        John|\n|        Jane|\n|         Tom|\n+------------+\n\n"
     ]
    }
   ],
   "source": [
    "from pyspark.sql.functions import trim, ltrim, rtrim\n",
    "\n",
    "df = spark.createDataFrame([\n",
    "    (\"  John  \",),\n",
    "    (\"  Jane   \",),\n",
    "    (\"  Tom  \",)\n",
    "], [\"name\"])\n",
    "\n",
    "# Remove leading and trailing spaces using trim()\n",
    "df.select(trim(df.name).alias(\"trimmed_name\")).show()\n"
   ]
  },
  {
   "cell_type": "markdown",
   "metadata": {
    "application/vnd.databricks.v1+cell": {
     "cellMetadata": {},
     "inputWidgets": {},
     "nuid": "e480395f-63d8-420f-953c-cf4bb1e83b40",
     "showTitle": false,
     "title": ""
    }
   },
   "source": [
    "### 2. Removing Leading Spaces with `ltrim()`\n",
    "\n",
    "**Scenario**: You have a column of product names with extra spaces at the beginning, and you want to remove them using `ltrim()`.\n",
    "\n",
    "**Code Example**:"
   ]
  },
  {
   "cell_type": "code",
   "execution_count": 0,
   "metadata": {
    "application/vnd.databricks.v1+cell": {
     "cellMetadata": {
      "byteLimit": 2048000,
      "rowLimit": 10000
     },
     "inputWidgets": {},
     "nuid": "12b0e83c-d4f6-40bb-88ba-9da575dd3c0f",
     "showTitle": false,
     "title": ""
    }
   },
   "outputs": [
    {
     "output_type": "stream",
     "name": "stdout",
     "output_type": "stream",
     "text": [
      "+-----------------+\n|left_trimmed_name|\n+-----------------+\n|           John  |\n|          Jane   |\n|            Tom  |\n+-----------------+\n\n"
     ]
    }
   ],
   "source": [
    "# Remove leading spaces using ltrim()\n",
    "df.select(ltrim(df.name).alias(\"left_trimmed_name\")).show()\n"
   ]
  },
  {
   "cell_type": "markdown",
   "metadata": {
    "application/vnd.databricks.v1+cell": {
     "cellMetadata": {},
     "inputWidgets": {},
     "nuid": "60c08a0e-f2e8-4b3d-a925-46c6e9f226b9",
     "showTitle": false,
     "title": ""
    }
   },
   "source": [
    "### 3. Removing Trailing Spaces with `rtrim()`\n",
    "\n",
    "**Scenario**: You want to remove trailing spaces from the names using `rtrim()`.\n",
    "\n",
    "**Code Example**:"
   ]
  },
  {
   "cell_type": "code",
   "execution_count": 0,
   "metadata": {
    "application/vnd.databricks.v1+cell": {
     "cellMetadata": {
      "byteLimit": 2048000,
      "rowLimit": 10000
     },
     "inputWidgets": {},
     "nuid": "247ca893-b872-44b2-98bd-577abc16628b",
     "showTitle": false,
     "title": ""
    }
   },
   "outputs": [
    {
     "output_type": "stream",
     "name": "stdout",
     "output_type": "stream",
     "text": [
      "+------------------+\n|right_trimmed_name|\n+------------------+\n|              John|\n|              Jane|\n|               Tom|\n+------------------+\n\n"
     ]
    }
   ],
   "source": [
    "# Remove trailing spaces using rtrim()\n",
    "df.select(rtrim(df.name).alias(\"right_trimmed_name\")).show()\n"
   ]
  },
  {
   "cell_type": "markdown",
   "metadata": {
    "application/vnd.databricks.v1+cell": {
     "cellMetadata": {},
     "inputWidgets": {},
     "nuid": "5fcbdd26-45f0-4353-86c4-3c187e208bfd",
     "showTitle": false,
     "title": ""
    }
   },
   "source": [
    "### 4. Combining `trim()`, `ltrim()`, and `rtrim()`\n",
    "\n",
    "**Scenario**: You want to show the difference between trimming functions by applying all three to the same column.\n",
    "\n",
    "**Code Example**:"
   ]
  },
  {
   "cell_type": "code",
   "execution_count": 0,
   "metadata": {
    "application/vnd.databricks.v1+cell": {
     "cellMetadata": {
      "byteLimit": 2048000,
      "rowLimit": 10000
     },
     "inputWidgets": {},
     "nuid": "4dc3aef5-a64a-45c0-a103-fb9f0f492624",
     "showTitle": false,
     "title": ""
    }
   },
   "outputs": [
    {
     "output_type": "stream",
     "name": "stdout",
     "output_type": "stream",
     "text": [
      "+------------+-----------------+------------------+\n|trimmed_name|left_trimmed_name|right_trimmed_name|\n+------------+-----------------+------------------+\n|        John|           John  |              John|\n|        Jane|          Jane   |              Jane|\n|         Tom|            Tom  |               Tom|\n+------------+-----------------+------------------+\n\n"
     ]
    }
   ],
   "source": [
    "df.select(\n",
    "    trim(df.name).alias(\"trimmed_name\"),\n",
    "    ltrim(df.name).alias(\"left_trimmed_name\"),\n",
    "    rtrim(df.name).alias(\"right_trimmed_name\")\n",
    ").show()\n"
   ]
  },
  {
   "cell_type": "markdown",
   "metadata": {
    "application/vnd.databricks.v1+cell": {
     "cellMetadata": {},
     "inputWidgets": {},
     "nuid": "cc29fb14-15c6-4742-b64d-f72c1585496c",
     "showTitle": false,
     "title": ""
    }
   },
   "source": [
    "### 5. Trimming Spaces and Concatenating Strings\n",
    "\n",
    "**Scenario**: You want to trim spaces from a name field and then concatenate it with another column, such as an ID.\n",
    "\n",
    "**Code Example**:"
   ]
  },
  {
   "cell_type": "code",
   "execution_count": 0,
   "metadata": {
    "application/vnd.databricks.v1+cell": {
     "cellMetadata": {
      "byteLimit": 2048000,
      "rowLimit": 10000
     },
     "inputWidgets": {},
     "nuid": "36d38385-0ea6-4ca8-8a1c-17aa6c8f870f",
     "showTitle": false,
     "title": ""
    }
   },
   "outputs": [
    {
     "output_type": "stream",
     "name": "stdout",
     "output_type": "stream",
     "text": [
      "+----------+\n| full_name|\n+----------+\n|  John Doe|\n|Jane Smith|\n| Tom Brown|\n+----------+\n\n"
     ]
    }
   ],
   "source": [
    "from pyspark.sql.functions import concat, lit\n",
    "\n",
    "# Trim spaces and concatenate with another string\n",
    "df_names = spark.createDataFrame([\n",
    "    (\"  John  \", \"Doe\"),\n",
    "    (\"  Jane   \", \"Smith\"),\n",
    "    (\"  Tom  \", \"Brown\")\n",
    "], [\"first_name\", \"last_name\"])\n",
    "\n",
    "df_names.select(\n",
    "    concat(trim(df_names.first_name), lit(\" \"), df_names.last_name).alias(\"full_name\")\n",
    ").show()\n"
   ]
  },
  {
   "cell_type": "markdown",
   "metadata": {
    "application/vnd.databricks.v1+cell": {
     "cellMetadata": {},
     "inputWidgets": {},
     "nuid": "38623e5c-35f2-4e17-af14-4d882dc97792",
     "showTitle": false,
     "title": ""
    }
   },
   "source": [
    "### 6. Handling Null Values in Trimming\n",
    "\n",
    "**Scenario**: You want to handle cases where some values are null, ensuring that `trim()` doesn’t raise errors or affect your DataFrame processing.\n",
    "\n",
    "**Code Example**:"
   ]
  },
  {
   "cell_type": "code",
   "execution_count": 0,
   "metadata": {
    "application/vnd.databricks.v1+cell": {
     "cellMetadata": {
      "byteLimit": 2048000,
      "rowLimit": 10000
     },
     "inputWidgets": {},
     "nuid": "5b8a44a4-5a8c-459b-8f97-6e26bdc601bb",
     "showTitle": false,
     "title": ""
    }
   },
   "outputs": [
    {
     "output_type": "stream",
     "name": "stdout",
     "output_type": "stream",
     "text": [
      "+------------+\n|trimmed_name|\n+------------+\n|        John|\n|        null|\n|         Tom|\n+------------+\n\n"
     ]
    }
   ],
   "source": [
    "df_with_nulls = spark.createDataFrame([\n",
    "    (\"  John  \",),\n",
    "    (None,),\n",
    "    (\"  Tom  \",)\n",
    "], [\"name\"])\n",
    "\n",
    "# Trim values with handling null values\n",
    "df_with_nulls.select(trim(df_with_nulls.name).alias(\"trimmed_name\")).show()\n"
   ]
  }
 ],
 "metadata": {
  "application/vnd.databricks.v1+notebook": {
   "dashboards": [],
   "environmentMetadata": null,
   "language": "python",
   "notebookMetadata": {
    "pythonIndentUnit": 4
   },
   "notebookName": "21_pyspark_trim_function_trimming_spaces_easily",
   "widgets": {}
  }
 },
 "nbformat": 4,
 "nbformat_minor": 0
}
