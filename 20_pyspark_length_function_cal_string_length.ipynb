{
 "cells": [
  {
   "cell_type": "markdown",
   "metadata": {
    "application/vnd.databricks.v1+cell": {
     "cellMetadata": {},
     "inputWidgets": {},
     "nuid": "d36e6ddf-409f-4736-80e4-90a685ff0099",
     "showTitle": false,
     "title": ""
    }
   },
   "source": [
    "# PySpark SQL length() Function: How to Calculate String Length"
   ]
  },
  {
   "cell_type": "markdown",
   "metadata": {
    "application/vnd.databricks.v1+cell": {
     "cellMetadata": {},
     "inputWidgets": {},
     "nuid": "b38f638f-5f8e-4512-9044-922839f379d2",
     "showTitle": false,
     "title": ""
    }
   },
   "source": [
    "## Introduction to the `length()` Function\n",
    "\n",
    "The `length()` function in PySpark is used to calculate the number of characters in a string. It’s similar to the `LEN()` function in SQL and the `len()` function in Python. This function is helpful for determining the length of strings, such as product codes, names, or descriptions.\n"
   ]
  },
  {
   "cell_type": "markdown",
   "metadata": {
    "application/vnd.databricks.v1+cell": {
     "cellMetadata": {},
     "inputWidgets": {},
     "nuid": "95176d50-59ab-4b70-9545-dbb1c26d3a7c",
     "showTitle": false,
     "title": ""
    }
   },
   "source": [
    "## Basic Syntax:"
   ]
  },
  {
   "cell_type": "markdown",
   "metadata": {
    "application/vnd.databricks.v1+cell": {
     "cellMetadata": {},
     "inputWidgets": {},
     "nuid": "9c3a4d1b-7ab7-4be9-9792-74beb66136ee",
     "showTitle": false,
     "title": ""
    }
   },
   "source": [
    "```\n",
    "from pyspark.sql.functions import length\n",
    "\n",
    "DataFrame.select(length(column).alias(\"column_length\"))\n",
    "```\n",
    "\n",
    "### Parameter:\n",
    "\n",
    "- **`column`**: The string column for which you want to calculate the length.\n"
   ]
  },
  {
   "cell_type": "markdown",
   "metadata": {
    "application/vnd.databricks.v1+cell": {
     "cellMetadata": {},
     "inputWidgets": {},
     "nuid": "9bfce391-7e42-42ea-a532-b3e8bbbc1415",
     "showTitle": false,
     "title": ""
    }
   },
   "source": [
    "## Why Use `length()`?\n",
    "\n",
    "- The `length()` function is useful when analyzing string columns, especially when you need to validate the length of values or check if they meet certain criteria (like maximum length for a username).\n",
    "- It is often used in data validation, formatting, and preparation tasks.\n"
   ]
  },
  {
   "cell_type": "markdown",
   "metadata": {
    "application/vnd.databricks.v1+cell": {
     "cellMetadata": {},
     "inputWidgets": {},
     "nuid": "906de0e9-0417-429b-9faf-5b247f6f4ab7",
     "showTitle": false,
     "title": ""
    }
   },
   "source": [
    "## Practical Examples"
   ]
  },
  {
   "cell_type": "markdown",
   "metadata": {
    "application/vnd.databricks.v1+cell": {
     "cellMetadata": {},
     "inputWidgets": {},
     "nuid": "0428868e-0901-4192-9bf9-2449d8f22d82",
     "showTitle": false,
     "title": ""
    }
   },
   "source": [
    "### 1. Calculating the Length of a Single Column\n",
    "\n",
    "**Scenario**: You have a DataFrame with product codes, and you want to calculate the length of each code.\n",
    "\n",
    "**Code Example**:"
   ]
  },
  {
   "cell_type": "code",
   "execution_count": 0,
   "metadata": {
    "application/vnd.databricks.v1+cell": {
     "cellMetadata": {
      "byteLimit": 2048000,
      "rowLimit": 10000
     },
     "inputWidgets": {},
     "nuid": "cb211a73-d5cb-4d9b-89f7-81b797632646",
     "showTitle": false,
     "title": ""
    }
   },
   "outputs": [
    {
     "output_type": "stream",
     "name": "stdout",
     "output_type": "stream",
     "text": [
      "+-----------+\n|code_length|\n+-----------+\n|          8|\n|          8|\n|          8|\n+-----------+\n\n"
     ]
    }
   ],
   "source": [
    "from pyspark.sql.functions import length\n",
    "\n",
    "df = spark.createDataFrame([\n",
    "    (\"ABC12345\",),\n",
    "    (\"XYZ98765\",),\n",
    "    (\"LMN54321\",)\n",
    "], [\"product_code\"])\n",
    "\n",
    "# Calculate the length of product_code\n",
    "df.select(length(df.product_code).alias(\"code_length\")).show()\n"
   ]
  },
  {
   "cell_type": "markdown",
   "metadata": {
    "application/vnd.databricks.v1+cell": {
     "cellMetadata": {},
     "inputWidgets": {},
     "nuid": "dd7af26a-5b68-489c-80ea-dcdf0aa0da05",
     "showTitle": false,
     "title": ""
    }
   },
   "source": [
    "### 2. Calculating the Length of Multiple Columns\n",
    "\n",
    "**Scenario**: You have both `first_name` and `last_name` columns, and you want to calculate the length of both.\n",
    "\n",
    "**Code Example**:"
   ]
  },
  {
   "cell_type": "code",
   "execution_count": 0,
   "metadata": {
    "application/vnd.databricks.v1+cell": {
     "cellMetadata": {
      "byteLimit": 2048000,
      "rowLimit": 10000
     },
     "inputWidgets": {},
     "nuid": "8522c538-7d5d-4598-903f-699732bb2f1e",
     "showTitle": false,
     "title": ""
    }
   },
   "outputs": [
    {
     "output_type": "stream",
     "name": "stdout",
     "output_type": "stream",
     "text": [
      "+-----------------+----------------+\n|first_name_length|last_name_length|\n+-----------------+----------------+\n|                4|               3|\n|                4|               5|\n|                3|               5|\n+-----------------+----------------+\n\n"
     ]
    }
   ],
   "source": [
    "df_names = spark.createDataFrame([\n",
    "    (\"John\", \"Doe\"),\n",
    "    (\"Jane\", \"Smith\"),\n",
    "    (\"Tom\", \"Brown\")\n",
    "], [\"first_name\", \"last_name\"])\n",
    "\n",
    "# Calculate the length of first_name and last_name\n",
    "df_names.select(\n",
    "    length(df_names.first_name).alias(\"first_name_length\"),\n",
    "    length(df_names.last_name).alias(\"last_name_length\")\n",
    ").show()\n"
   ]
  },
  {
   "cell_type": "markdown",
   "metadata": {
    "application/vnd.databricks.v1+cell": {
     "cellMetadata": {},
     "inputWidgets": {},
     "nuid": "5bf9f0f8-0537-4348-97c1-de7d1e781998",
     "showTitle": false,
     "title": ""
    }
   },
   "source": [
    "### 3. Filtering Data Based on String Length\n",
    "\n",
    "**Scenario**: You want to filter the DataFrame to only show product codes that are exactly 8 characters long.\n",
    "\n",
    "**Code Example**:"
   ]
  },
  {
   "cell_type": "code",
   "execution_count": 0,
   "metadata": {
    "application/vnd.databricks.v1+cell": {
     "cellMetadata": {
      "byteLimit": 2048000,
      "rowLimit": 10000
     },
     "inputWidgets": {},
     "nuid": "c17899f7-3555-4606-9756-f6ac0d29c363",
     "showTitle": false,
     "title": ""
    }
   },
   "outputs": [
    {
     "output_type": "stream",
     "name": "stdout",
     "output_type": "stream",
     "text": [
      "+------------+\n|product_code|\n+------------+\n|    ABC12345|\n|    XYZ98765|\n|    LMN54321|\n+------------+\n\n"
     ]
    }
   ],
   "source": [
    "# Filter rows where the product_code length is 8\n",
    "df.filter(length(df.product_code) == 8).show()\n"
   ]
  },
  {
   "cell_type": "markdown",
   "metadata": {
    "application/vnd.databricks.v1+cell": {
     "cellMetadata": {},
     "inputWidgets": {},
     "nuid": "68053029-86e6-4391-ab09-84dca10934e7",
     "showTitle": false,
     "title": ""
    }
   },
   "source": [
    "### 4. Handling Null Values in String Length\n",
    "\n",
    "**Scenario**: You have some columns with null values, and you want to calculate the length without encountering errors.\n",
    "\n",
    "**Code Example**:"
   ]
  },
  {
   "cell_type": "code",
   "execution_count": 0,
   "metadata": {
    "application/vnd.databricks.v1+cell": {
     "cellMetadata": {
      "byteLimit": 2048000,
      "rowLimit": 10000
     },
     "inputWidgets": {},
     "nuid": "30e1276c-9312-4b34-a958-b55dc8968a25",
     "showTitle": false,
     "title": ""
    }
   },
   "outputs": [
    {
     "output_type": "stream",
     "name": "stdout",
     "output_type": "stream",
     "text": [
      "+-----------------+----------------+\n|first_name_length|last_name_length|\n+-----------------+----------------+\n|                4|            null|\n|             null|               5|\n|                3|               5|\n+-----------------+----------------+\n\n"
     ]
    }
   ],
   "source": [
    "df_with_nulls = spark.createDataFrame([\n",
    "    (\"John\", None),\n",
    "    (None, \"Smith\"),\n",
    "    (\"Tom\", \"Brown\")\n",
    "], [\"first_name\", \"last_name\"])\n",
    "\n",
    "# Calculate the length of columns with null values\n",
    "df_with_nulls.select(\n",
    "    length(df_with_nulls.first_name).alias(\"first_name_length\"),\n",
    "    length(df_with_nulls.last_name).alias(\"last_name_length\")\n",
    ").show()\n"
   ]
  },
  {
   "cell_type": "markdown",
   "metadata": {
    "application/vnd.databricks.v1+cell": {
     "cellMetadata": {},
     "inputWidgets": {},
     "nuid": "91b4ecda-2048-40c7-8fdc-13162783bd38",
     "showTitle": false,
     "title": ""
    }
   },
   "source": [
    "### 5. Combining `length()` with Other String Operations\n",
    "\n",
    "**Scenario**: You want to calculate the length of concatenated columns, such as combining `first_name` and `last_name` and then calculating the length.\n",
    "\n",
    "**Code Example**:"
   ]
  },
  {
   "cell_type": "code",
   "execution_count": 0,
   "metadata": {
    "application/vnd.databricks.v1+cell": {
     "cellMetadata": {
      "byteLimit": 2048000,
      "rowLimit": 10000
     },
     "inputWidgets": {},
     "nuid": "43119e7c-f7c5-4f7d-8cf2-150e22efb5d6",
     "showTitle": false,
     "title": ""
    }
   },
   "outputs": [
    {
     "output_type": "stream",
     "name": "stdout",
     "output_type": "stream",
     "text": [
      "+----------+----------------+\n| full_name|full_name_length|\n+----------+----------------+\n|  John Doe|               8|\n|Jane Smith|              10|\n| Tom Brown|               9|\n+----------+----------------+\n\n"
     ]
    }
   ],
   "source": [
    "from pyspark.sql.functions import concat, lit\n",
    "\n",
    "# Concatenate first_name and last_name and calculate length\n",
    "df_names.select(\n",
    "    concat(df_names.first_name, lit(\" \"), df_names.last_name).alias(\"full_name\"),\n",
    "    length(concat(df_names.first_name, lit(\" \"), df_names.last_name)).alias(\"full_name_length\")\n",
    ").show()\n"
   ]
  }
 ],
 "metadata": {
  "application/vnd.databricks.v1+notebook": {
   "dashboards": [],
   "environmentMetadata": null,
   "language": "python",
   "notebookMetadata": {
    "pythonIndentUnit": 4
   },
   "notebookName": "20_pyspark_length_function_cal_string_length",
   "widgets": {}
  }
 },
 "nbformat": 4,
 "nbformat_minor": 0
}
