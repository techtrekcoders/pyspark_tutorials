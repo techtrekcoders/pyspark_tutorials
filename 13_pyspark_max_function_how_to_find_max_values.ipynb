{
 "cells": [
  {
   "cell_type": "markdown",
   "metadata": {
    "application/vnd.databricks.v1+cell": {
     "cellMetadata": {},
     "inputWidgets": {},
     "nuid": "864d57f6-cd53-40e4-999f-754546ce0c3d",
     "showTitle": false,
     "title": ""
    }
   },
   "source": [
    "# PySpark SQL max() Function: How to Find Maximum Values"
   ]
  },
  {
   "cell_type": "markdown",
   "metadata": {
    "application/vnd.databricks.v1+cell": {
     "cellMetadata": {},
     "inputWidgets": {},
     "nuid": "a7fd0d93-7135-4cc3-a68c-39d452059add",
     "showTitle": false,
     "title": ""
    }
   },
   "source": [
    "## Introduction to the `max()` Function\n",
    "\n",
    "The `max()` function in PySpark is used to calculate the maximum value in a column. It works similarly to the SQL `MAX()` function and is essential for identifying the largest or highest values in a dataset.\n"
   ]
  },
  {
   "cell_type": "markdown",
   "metadata": {
    "application/vnd.databricks.v1+cell": {
     "cellMetadata": {},
     "inputWidgets": {},
     "nuid": "3a8f2cac-86dc-484d-91a2-246f8a64556a",
     "showTitle": false,
     "title": ""
    }
   },
   "source": [
    "## Basic Syntax:"
   ]
  },
  {
   "cell_type": "markdown",
   "metadata": {
    "application/vnd.databricks.v1+cell": {
     "cellMetadata": {},
     "inputWidgets": {},
     "nuid": "59554b48-6a08-45c8-a3c7-eab59434ae2c",
     "showTitle": false,
     "title": ""
    }
   },
   "source": [
    "```\n",
    "DataFrame.groupBy(*cols).agg(max(\"columnName\"))\n",
    "```\n",
    "\n",
    "### Parameters:\n",
    "\n",
    "- **`cols`**: The column(s) to group by (optional).\n",
    "- **`max(\"columnName\")`**: Applies the `max()` function to the specified column to get the maximum value.\n"
   ]
  },
  {
   "cell_type": "markdown",
   "metadata": {
    "application/vnd.databricks.v1+cell": {
     "cellMetadata": {},
     "inputWidgets": {},
     "nuid": "e2c81d27-8e1f-49a8-982a-03b01ec5027d",
     "showTitle": false,
     "title": ""
    }
   },
   "source": [
    "## Why Use `max()`?\n",
    "\n",
    "- It helps find the highest values in data, such as the maximum salary, price, or the latest date in a dataset.\n",
    "- You can use `max()` across the entire DataFrame or within groups when combined with `groupBy()`.\n"
   ]
  },
  {
   "cell_type": "markdown",
   "metadata": {
    "application/vnd.databricks.v1+cell": {
     "cellMetadata": {},
     "inputWidgets": {},
     "nuid": "48da19ca-a270-4d0c-b285-434e054ddcc3",
     "showTitle": false,
     "title": ""
    }
   },
   "source": [
    "## Practical Examples"
   ]
  },
  {
   "cell_type": "markdown",
   "metadata": {
    "application/vnd.databricks.v1+cell": {
     "cellMetadata": {},
     "inputWidgets": {},
     "nuid": "c44ff35c-e8e1-4952-b834-b7911e901e83",
     "showTitle": false,
     "title": ""
    }
   },
   "source": [
    "### 1. Finding the Maximum Value in a Single Column\n",
    "\n",
    "**Scenario**: You have a DataFrame with sales data, and you want to find the maximum sales value across the dataset.\n",
    "\n",
    "**Code Example**:"
   ]
  },
  {
   "cell_type": "code",
   "execution_count": 0,
   "metadata": {
    "application/vnd.databricks.v1+cell": {
     "cellMetadata": {
      "byteLimit": 2048000,
      "rowLimit": 10000
     },
     "inputWidgets": {},
     "nuid": "f2b9ab5b-d50c-44d6-b7fb-3306f3d89ade",
     "showTitle": false,
     "title": ""
    }
   },
   "outputs": [
    {
     "output_type": "stream",
     "name": "stdout",
     "output_type": "stream",
     "text": [
      "+---------+\n|MAX_SALES|\n+---------+\n|      500|\n+---------+\n\n"
     ]
    }
   ],
   "source": [
    "from pyspark.sql.functions import max\n",
    "\n",
    "df = spark.createDataFrame([\n",
    "    (\"ItemA\", 100),\n",
    "    (\"ItemB\", 200),\n",
    "    (\"ItemA\", 300),\n",
    "    (\"ItemC\", 400),\n",
    "    (\"ItemB\", 500)\n",
    "], [\"ITEM\", \"SALES\"])\n",
    "\n",
    "# Find the maximum SALES value\n",
    "df.agg(max(\"SALES\").alias(\"MAX_SALES\")).show()\n"
   ]
  },
  {
   "cell_type": "markdown",
   "metadata": {
    "application/vnd.databricks.v1+cell": {
     "cellMetadata": {},
     "inputWidgets": {},
     "nuid": "4a70ba93-e3bb-4675-b91d-37ab90533989",
     "showTitle": false,
     "title": ""
    }
   },
   "source": [
    "### 2. Grouping and Finding the Maximum Value\n",
    "\n",
    "**Scenario**: You want to group the data by `ITEM` and calculate the maximum sales value for each item.\n",
    "\n",
    "**Code Example**:"
   ]
  },
  {
   "cell_type": "code",
   "execution_count": 0,
   "metadata": {
    "application/vnd.databricks.v1+cell": {
     "cellMetadata": {
      "byteLimit": 2048000,
      "rowLimit": 10000
     },
     "inputWidgets": {},
     "nuid": "602a706d-36b0-487b-b95b-660b14c09cc3",
     "showTitle": false,
     "title": ""
    }
   },
   "outputs": [
    {
     "output_type": "stream",
     "name": "stdout",
     "output_type": "stream",
     "text": [
      "+-----+---------+\n| ITEM|MAX_SALES|\n+-----+---------+\n|ItemA|      300|\n|ItemB|      500|\n|ItemC|      400|\n+-----+---------+\n\n"
     ]
    }
   ],
   "source": [
    "# Group by ITEM and calculate the maximum SALES\n",
    "df.groupBy(\"ITEM\").agg(max(\"SALES\").alias(\"MAX_SALES\")).show()\n"
   ]
  },
  {
   "cell_type": "markdown",
   "metadata": {
    "application/vnd.databricks.v1+cell": {
     "cellMetadata": {},
     "inputWidgets": {},
     "nuid": "c12ce0cb-836d-4a96-bbb0-46d1cbdf7f7b",
     "showTitle": false,
     "title": ""
    }
   },
   "source": [
    "### 3. Finding the Maximum Value of Multiple Columns\n",
    "\n",
    "**Scenario**: You have both sales and profit data, and you want to find the maximum value for both columns.\n",
    "\n",
    "**Code Example**:"
   ]
  },
  {
   "cell_type": "code",
   "execution_count": 0,
   "metadata": {
    "application/vnd.databricks.v1+cell": {
     "cellMetadata": {
      "byteLimit": 2048000,
      "rowLimit": 10000
     },
     "inputWidgets": {},
     "nuid": "df354220-6836-466b-9434-efbf8030078b",
     "showTitle": false,
     "title": ""
    }
   },
   "outputs": [
    {
     "output_type": "stream",
     "name": "stdout",
     "output_type": "stream",
     "text": [
      "+---------+----------+\n|MAX_SALES|MAX_PROFIT|\n+---------+----------+\n|      500|        50|\n+---------+----------+\n\n"
     ]
    }
   ],
   "source": [
    "df_multi = spark.createDataFrame([\n",
    "    (\"ItemA\", 100, 10),\n",
    "    (\"ItemB\", 200, 20),\n",
    "    (\"ItemA\", 300, 30),\n",
    "    (\"ItemC\", 400, 40),\n",
    "    (\"ItemB\", 500, 50)\n",
    "], [\"ITEM\", \"SALES\", \"PROFIT\"])\n",
    "\n",
    "# Find the maximum values of both SALES and PROFIT\n",
    "df_multi.agg(\n",
    "    max(\"SALES\").alias(\"MAX_SALES\"),\n",
    "    max(\"PROFIT\").alias(\"MAX_PROFIT\")\n",
    ").show()\n"
   ]
  },
  {
   "cell_type": "markdown",
   "metadata": {
    "application/vnd.databricks.v1+cell": {
     "cellMetadata": {},
     "inputWidgets": {},
     "nuid": "d53f1764-08b3-4d8d-b614-d0496fbe627b",
     "showTitle": false,
     "title": ""
    }
   },
   "source": [
    "### 4. Finding the Maximum with a Conditional Expression\n",
    "\n",
    "**Scenario**: You want to find the maximum sales value for sales greater than 200.\n",
    "\n",
    "**Code Example**:"
   ]
  },
  {
   "cell_type": "code",
   "execution_count": 0,
   "metadata": {
    "application/vnd.databricks.v1+cell": {
     "cellMetadata": {
      "byteLimit": 2048000,
      "rowLimit": 10000
     },
     "inputWidgets": {},
     "nuid": "93ce29eb-75c8-4ab6-b6e1-1aed3204b3c3",
     "showTitle": false,
     "title": ""
    }
   },
   "outputs": [
    {
     "output_type": "stream",
     "name": "stdout",
     "output_type": "stream",
     "text": [
      "+------------------+\n|MAX_SALES_OVER_200|\n+------------------+\n|               500|\n+------------------+\n\n"
     ]
    }
   ],
   "source": [
    "from pyspark.sql.functions import when\n",
    "\n",
    "# Find the maximum SALES where SALES > 200\n",
    "df.agg(max(when(df.SALES > 200, df.SALES)).alias(\"MAX_SALES_OVER_200\")).show()\n"
   ]
  },
  {
   "cell_type": "markdown",
   "metadata": {
    "application/vnd.databricks.v1+cell": {
     "cellMetadata": {},
     "inputWidgets": {},
     "nuid": "7c6b6951-ddc9-4310-b2a3-4374ffc80fad",
     "showTitle": false,
     "title": ""
    }
   },
   "source": [
    "### 5. Grouping and Finding Multiple Maximum Values\n",
    "\n",
    "**Scenario**: You want to group by `ITEM` and find the maximum sales and profit for each item.\n",
    "\n",
    "**Code Example**:"
   ]
  },
  {
   "cell_type": "code",
   "execution_count": 0,
   "metadata": {
    "application/vnd.databricks.v1+cell": {
     "cellMetadata": {
      "byteLimit": 2048000,
      "rowLimit": 10000
     },
     "inputWidgets": {},
     "nuid": "01265e00-fcb9-4c0a-b1fb-6c55cba462ec",
     "showTitle": false,
     "title": ""
    }
   },
   "outputs": [
    {
     "output_type": "stream",
     "name": "stdout",
     "output_type": "stream",
     "text": [
      "+-----+---------+----------+\n| ITEM|MAX_SALES|MAX_PROFIT|\n+-----+---------+----------+\n|ItemA|      300|        30|\n|ItemB|      500|        50|\n|ItemC|      400|        40|\n+-----+---------+----------+\n\n"
     ]
    }
   ],
   "source": [
    "# Group by ITEM and find the maximum SALES and PROFIT\n",
    "df_multi.groupBy(\"ITEM\").agg(\n",
    "    max(\"SALES\").alias(\"MAX_SALES\"),\n",
    "    max(\"PROFIT\").alias(\"MAX_PROFIT\")\n",
    ").show()\n"
   ]
  },
  {
   "cell_type": "markdown",
   "metadata": {
    "application/vnd.databricks.v1+cell": {
     "cellMetadata": {},
     "inputWidgets": {},
     "nuid": "89a934e1-35b6-4233-be9c-abc8aa9c1766",
     "showTitle": false,
     "title": ""
    }
   },
   "source": [
    "### 6. Finding the Global Maximum Value\n",
    "\n",
    "**Scenario**: You want to find the maximum sales value across the entire dataset, without any grouping.\n",
    "\n",
    "**Code Example**:"
   ]
  },
  {
   "cell_type": "code",
   "execution_count": 0,
   "metadata": {
    "application/vnd.databricks.v1+cell": {
     "cellMetadata": {
      "byteLimit": 2048000,
      "rowLimit": 10000
     },
     "inputWidgets": {},
     "nuid": "5647cdb3-fb38-46ce-850c-b4367de8ebb6",
     "showTitle": false,
     "title": ""
    }
   },
   "outputs": [
    {
     "output_type": "stream",
     "name": "stdout",
     "output_type": "stream",
     "text": [
      "+----------------+\n|GLOBAL_MAX_SALES|\n+----------------+\n|             500|\n+----------------+\n\n"
     ]
    }
   ],
   "source": [
    "# Global maximum of SALES without grouping\n",
    "df.agg(max(\"SALES\").alias(\"GLOBAL_MAX_SALES\")).show()\n"
   ]
  }
 ],
 "metadata": {
  "application/vnd.databricks.v1+notebook": {
   "dashboards": [],
   "environmentMetadata": null,
   "language": "python",
   "notebookMetadata": {
    "pythonIndentUnit": 4
   },
   "notebookName": "13_pyspark_max_function_how_to_find_max_values",
   "widgets": {}
  }
 },
 "nbformat": 4,
 "nbformat_minor": 0
}
