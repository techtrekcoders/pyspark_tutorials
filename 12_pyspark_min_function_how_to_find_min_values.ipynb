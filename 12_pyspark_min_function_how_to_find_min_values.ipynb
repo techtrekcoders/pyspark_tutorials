{
 "cells": [
  {
   "cell_type": "markdown",
   "metadata": {
    "application/vnd.databricks.v1+cell": {
     "cellMetadata": {},
     "inputWidgets": {},
     "nuid": "219f26a8-a228-425d-992c-63667522e63e",
     "showTitle": false,
     "title": ""
    }
   },
   "source": [
    "# PySpark SQL min() Function: How to Find Minimum Values"
   ]
  },
  {
   "cell_type": "markdown",
   "metadata": {
    "application/vnd.databricks.v1+cell": {
     "cellMetadata": {},
     "inputWidgets": {},
     "nuid": "bdc2a0f5-e7e0-4919-b70d-b705a2e82cdc",
     "showTitle": false,
     "title": ""
    }
   },
   "source": [
    "## Introduction to the `min()` Function\n",
    "\n",
    "The `min()` function in PySpark is used to calculate the minimum value in a column. It works similarly to the SQL `MIN()` function and is one of the fundamental aggregation functions used in data analysis to identify the smallest value in a dataset.\n"
   ]
  },
  {
   "cell_type": "markdown",
   "metadata": {
    "application/vnd.databricks.v1+cell": {
     "cellMetadata": {},
     "inputWidgets": {},
     "nuid": "bdf6f10d-7031-4835-b429-6792367297df",
     "showTitle": false,
     "title": ""
    }
   },
   "source": [
    "## Basic Syntax:"
   ]
  },
  {
   "cell_type": "markdown",
   "metadata": {
    "application/vnd.databricks.v1+cell": {
     "cellMetadata": {},
     "inputWidgets": {},
     "nuid": "83ea9d6b-bcc9-41ab-a427-bff24c254589",
     "showTitle": false,
     "title": ""
    }
   },
   "source": [
    "```\n",
    "DataFrame.groupBy(*cols).agg(min(\"columnName\"))\n",
    "```\n",
    "\n",
    "### Parameters:\n",
    "\n",
    "- **`cols`**: The column(s) to group by (if needed).\n",
    "- **`min(\"columnName\")`**: Applies the `min()` function to the specified column to get the minimum value.\n",
    "\n"
   ]
  },
  {
   "cell_type": "markdown",
   "metadata": {
    "application/vnd.databricks.v1+cell": {
     "cellMetadata": {},
     "inputWidgets": {},
     "nuid": "3ee3ae9e-22f0-44fd-8eb8-0377c9a1133d",
     "showTitle": false,
     "title": ""
    }
   },
   "source": [
    "## Why Use `min()`?\n",
    "\n",
    "- It’s useful for finding the lowest values, such as the minimum price, minimum salary, or the earliest date in a dataset.\n",
    "- It can be applied globally (across the entire DataFrame) or within specific groups (using `groupBy()`).\n"
   ]
  },
  {
   "cell_type": "markdown",
   "metadata": {
    "application/vnd.databricks.v1+cell": {
     "cellMetadata": {},
     "inputWidgets": {},
     "nuid": "d094cd63-4eb6-418f-8030-cd842269d924",
     "showTitle": false,
     "title": ""
    }
   },
   "source": [
    "## Practical Examples"
   ]
  },
  {
   "cell_type": "markdown",
   "metadata": {
    "application/vnd.databricks.v1+cell": {
     "cellMetadata": {},
     "inputWidgets": {},
     "nuid": "eccb733f-06e7-4fac-b793-0da46eaf1459",
     "showTitle": false,
     "title": ""
    }
   },
   "source": [
    "### 1. Finding the Minimum of a Single Column\n",
    "\n",
    "**Scenario**: You have a DataFrame with sales data, and you want to find the minimum sales value across the entire DataFrame.\n",
    "\n",
    "**Code Example**:"
   ]
  },
  {
   "cell_type": "code",
   "execution_count": 0,
   "metadata": {
    "application/vnd.databricks.v1+cell": {
     "cellMetadata": {
      "byteLimit": 2048000,
      "rowLimit": 10000
     },
     "inputWidgets": {},
     "nuid": "f555fc04-105d-4e02-9f07-d54dfcb6b0c3",
     "showTitle": false,
     "title": ""
    }
   },
   "outputs": [
    {
     "output_type": "stream",
     "name": "stdout",
     "output_type": "stream",
     "text": [
      "+---------+\n|MIN_SALES|\n+---------+\n|      100|\n+---------+\n\n"
     ]
    }
   ],
   "source": [
    "from pyspark.sql.functions import min\n",
    "\n",
    "df = spark.createDataFrame([\n",
    "    (\"ItemA\", 100),\n",
    "    (\"ItemB\", 200),\n",
    "    (\"ItemA\", 300),\n",
    "    (\"ItemC\", 400),\n",
    "    (\"ItemB\", 500)\n",
    "], [\"ITEM\", \"SALES\"])\n",
    "\n",
    "# Find the minimum SALES value\n",
    "df.agg(min(\"SALES\").alias(\"MIN_SALES\")).show()\n"
   ]
  },
  {
   "cell_type": "markdown",
   "metadata": {
    "application/vnd.databricks.v1+cell": {
     "cellMetadata": {},
     "inputWidgets": {},
     "nuid": "90d440d6-28d4-456c-a090-c2842463af1b",
     "showTitle": false,
     "title": ""
    }
   },
   "source": [
    "### 2. Grouping and Finding the Minimum Value\n",
    "\n",
    "**Scenario**: You want to group the data by `ITEM` and calculate the minimum sales value for each item.\n",
    "\n",
    "**Code Example**:"
   ]
  },
  {
   "cell_type": "code",
   "execution_count": 0,
   "metadata": {
    "application/vnd.databricks.v1+cell": {
     "cellMetadata": {
      "byteLimit": 2048000,
      "rowLimit": 10000
     },
     "inputWidgets": {},
     "nuid": "ba2278e4-238b-49fb-8e25-b5e89856cbfd",
     "showTitle": false,
     "title": ""
    }
   },
   "outputs": [
    {
     "output_type": "stream",
     "name": "stdout",
     "output_type": "stream",
     "text": [
      "+-----+---------+\n| ITEM|MIN_SALES|\n+-----+---------+\n|ItemA|      100|\n|ItemB|      200|\n|ItemC|      400|\n+-----+---------+\n\n"
     ]
    }
   ],
   "source": [
    "# Group by ITEM and calculate the minimum SALES\n",
    "df.groupBy(\"ITEM\").agg(min(\"SALES\").alias(\"MIN_SALES\")).show()\n"
   ]
  },
  {
   "cell_type": "markdown",
   "metadata": {
    "application/vnd.databricks.v1+cell": {
     "cellMetadata": {},
     "inputWidgets": {},
     "nuid": "3373c7c8-99fa-49ee-9dbe-f382d4238b18",
     "showTitle": false,
     "title": ""
    }
   },
   "source": [
    "### 3. Finding the Minimum of Multiple Columns\n",
    "\n",
    "**Scenario**: You have both sales and profit data, and you want to find the minimum value for both columns.\n",
    "\n",
    "**Code Example**:"
   ]
  },
  {
   "cell_type": "code",
   "execution_count": 0,
   "metadata": {
    "application/vnd.databricks.v1+cell": {
     "cellMetadata": {
      "byteLimit": 2048000,
      "rowLimit": 10000
     },
     "inputWidgets": {},
     "nuid": "516036dc-3ab3-41c5-91a7-23b9751cc74c",
     "showTitle": false,
     "title": ""
    }
   },
   "outputs": [
    {
     "output_type": "stream",
     "name": "stdout",
     "output_type": "stream",
     "text": [
      "+---------+----------+\n|MIN_SALES|MIN_PROFIT|\n+---------+----------+\n|      100|        10|\n+---------+----------+\n\n"
     ]
    }
   ],
   "source": [
    "df_multi = spark.createDataFrame([\n",
    "    (\"ItemA\", 100, 10),\n",
    "    (\"ItemB\", 200, 20),\n",
    "    (\"ItemA\", 300, 30),\n",
    "    (\"ItemC\", 400, 40),\n",
    "    (\"ItemB\", 500, 50)\n",
    "], [\"ITEM\", \"SALES\", \"PROFIT\"])\n",
    "\n",
    "# Find the minimum value of both SALES and PROFIT\n",
    "df_multi.agg(\n",
    "    min(\"SALES\").alias(\"MIN_SALES\"),\n",
    "    min(\"PROFIT\").alias(\"MIN_PROFIT\")\n",
    ").show()\n"
   ]
  },
  {
   "cell_type": "markdown",
   "metadata": {
    "application/vnd.databricks.v1+cell": {
     "cellMetadata": {},
     "inputWidgets": {},
     "nuid": "99f5824d-048d-4e67-9b72-5f0f205d1f24",
     "showTitle": false,
     "title": ""
    }
   },
   "source": [
    "### 4. Finding the Minimum with a Conditional Expression\n",
    "\n",
    "**Scenario**: You want to find the minimum sales value for sales greater than 200.\n",
    "\n",
    "**Code Example**:"
   ]
  },
  {
   "cell_type": "code",
   "execution_count": 0,
   "metadata": {
    "application/vnd.databricks.v1+cell": {
     "cellMetadata": {
      "byteLimit": 2048000,
      "rowLimit": 10000
     },
     "inputWidgets": {},
     "nuid": "e84f6f7d-298a-412d-9254-71ac10aa4b85",
     "showTitle": false,
     "title": ""
    }
   },
   "outputs": [
    {
     "output_type": "stream",
     "name": "stdout",
     "output_type": "stream",
     "text": [
      "+------------------+\n|MIN_SALES_OVER_200|\n+------------------+\n|               300|\n+------------------+\n\n"
     ]
    }
   ],
   "source": [
    "from pyspark.sql.functions import when\n",
    "\n",
    "# Find the minimum SALES where SALES > 200\n",
    "df.agg(min(when(df.SALES > 200, df.SALES)).alias(\"MIN_SALES_OVER_200\")).show()\n"
   ]
  },
  {
   "cell_type": "markdown",
   "metadata": {
    "application/vnd.databricks.v1+cell": {
     "cellMetadata": {},
     "inputWidgets": {},
     "nuid": "1a6165c3-0c65-4cb5-80dd-85f68e60fd3e",
     "showTitle": false,
     "title": ""
    }
   },
   "source": [
    "### 5. Grouping and Finding Multiple Minimum Values\n",
    "\n",
    "**Scenario**: You want to group by `ITEM` and find the minimum sales and profit for each item.\n",
    "\n",
    "**Code Example**:"
   ]
  },
  {
   "cell_type": "code",
   "execution_count": 0,
   "metadata": {
    "application/vnd.databricks.v1+cell": {
     "cellMetadata": {
      "byteLimit": 2048000,
      "rowLimit": 10000
     },
     "inputWidgets": {},
     "nuid": "0f9e9e66-83fe-41ba-aaf7-a56d7f24c8dc",
     "showTitle": false,
     "title": ""
    }
   },
   "outputs": [
    {
     "output_type": "stream",
     "name": "stdout",
     "output_type": "stream",
     "text": [
      "+-----+---------+----------+\n| ITEM|MIN_SALES|MIN_PROFIT|\n+-----+---------+----------+\n|ItemA|      100|        10|\n|ItemB|      200|        20|\n|ItemC|      400|        40|\n+-----+---------+----------+\n\n"
     ]
    }
   ],
   "source": [
    "# Group by ITEM and find the minimum SALES and PROFIT\n",
    "df_multi.groupBy(\"ITEM\").agg(\n",
    "    min(\"SALES\").alias(\"MIN_SALES\"),\n",
    "    min(\"PROFIT\").alias(\"MIN_PROFIT\")\n",
    ").show()\n"
   ]
  },
  {
   "cell_type": "markdown",
   "metadata": {
    "application/vnd.databricks.v1+cell": {
     "cellMetadata": {},
     "inputWidgets": {},
     "nuid": "4de3b9bb-fec1-4048-bf81-88949422adf5",
     "showTitle": false,
     "title": ""
    }
   },
   "source": [
    "### 6. Finding the Global Minimum Value\n",
    "\n",
    "**Scenario**: You want to find the minimum sales value across the entire dataset, without any grouping.\n",
    "\n",
    "**Code Example**:"
   ]
  },
  {
   "cell_type": "code",
   "execution_count": 0,
   "metadata": {
    "application/vnd.databricks.v1+cell": {
     "cellMetadata": {
      "byteLimit": 2048000,
      "rowLimit": 10000
     },
     "inputWidgets": {},
     "nuid": "5723a022-960b-4856-8a36-70e60792f666",
     "showTitle": false,
     "title": ""
    }
   },
   "outputs": [
    {
     "output_type": "stream",
     "name": "stdout",
     "output_type": "stream",
     "text": [
      "+----------------+\n|GLOBAL_MIN_SALES|\n+----------------+\n|             100|\n+----------------+\n\n"
     ]
    }
   ],
   "source": [
    "# Global minimum of SALES without grouping\n",
    "df.agg(min(\"SALES\").alias(\"GLOBAL_MIN_SALES\")).show()\n"
   ]
  }
 ],
 "metadata": {
  "application/vnd.databricks.v1+notebook": {
   "dashboards": [],
   "environmentMetadata": null,
   "language": "python",
   "notebookMetadata": {
    "pythonIndentUnit": 4
   },
   "notebookName": "12_pyspark_min_function_how_to_find_min_values",
   "widgets": {}
  }
 },
 "nbformat": 4,
 "nbformat_minor": 0
}
