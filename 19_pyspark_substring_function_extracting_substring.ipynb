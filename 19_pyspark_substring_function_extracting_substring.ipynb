{
 "cells": [
  {
   "cell_type": "markdown",
   "metadata": {
    "application/vnd.databricks.v1+cell": {
     "cellMetadata": {},
     "inputWidgets": {},
     "nuid": "a7d7dcc1-8b71-4d78-a111-76d08f8086aa",
     "showTitle": false,
     "title": ""
    }
   },
   "source": [
    "# PySpark SQL substring() Function: Extracting Substrings Easily"
   ]
  },
  {
   "cell_type": "markdown",
   "metadata": {
    "application/vnd.databricks.v1+cell": {
     "cellMetadata": {},
     "inputWidgets": {},
     "nuid": "f5047395-f349-4a41-8718-be15d75441a1",
     "showTitle": false,
     "title": ""
    }
   },
   "source": [
    "## Introduction to the `substring()` Function\n",
    "\n",
    "The `substring()` function in PySpark is used to extract a specific portion (substring) of a string column. It is often used when you need to extract a fixed-length portion of a string, such as a date, an identifier, or specific characters within a string.\n"
   ]
  },
  {
   "cell_type": "markdown",
   "metadata": {
    "application/vnd.databricks.v1+cell": {
     "cellMetadata": {},
     "inputWidgets": {},
     "nuid": "6666b8b3-1191-4f79-bdca-a324f19df9b4",
     "showTitle": false,
     "title": ""
    }
   },
   "source": [
    "## Basic Syntax:"
   ]
  },
  {
   "cell_type": "markdown",
   "metadata": {
    "application/vnd.databricks.v1+cell": {
     "cellMetadata": {},
     "inputWidgets": {},
     "nuid": "68c53610-f800-4e5f-9e05-dcdfca0647d4",
     "showTitle": false,
     "title": ""
    }
   },
   "source": [
    "```\n",
    "from pyspark.sql.functions import substring\n",
    "\n",
    "DataFrame.select(substring(column, startPos, length).alias(\"new_column\"))\n",
    "```\n",
    "\n",
    "### Parameters:\n",
    "\n",
    "- **`column`**: The column from which to extract the substring.\n",
    "- **`startPos`**: The starting position of the substring (1-based index).\n",
    "- **`length`**: The number of characters to extract.\n"
   ]
  },
  {
   "cell_type": "markdown",
   "metadata": {
    "application/vnd.databricks.v1+cell": {
     "cellMetadata": {},
     "inputWidgets": {},
     "nuid": "606591c4-beb8-4184-bb01-02c094682e6b",
     "showTitle": false,
     "title": ""
    }
   },
   "source": [
    "## Why Use `substring()`?\n",
    "\n",
    "- It is useful for extracting parts of strings, such as splitting dates, pulling out area codes from phone numbers, or isolating specific characters in a structured string format.\n",
    "- This function is often used for data transformation, data cleaning, or reformatting string columns.\n"
   ]
  },
  {
   "cell_type": "markdown",
   "metadata": {
    "application/vnd.databricks.v1+cell": {
     "cellMetadata": {},
     "inputWidgets": {},
     "nuid": "c1fa6686-0f67-42cf-a02f-599ac2ff8290",
     "showTitle": false,
     "title": ""
    }
   },
   "source": [
    "## Practical Examples"
   ]
  },
  {
   "cell_type": "markdown",
   "metadata": {
    "application/vnd.databricks.v1+cell": {
     "cellMetadata": {},
     "inputWidgets": {},
     "nuid": "ff429856-7a6e-4fa5-911b-557d5f35f3e0",
     "showTitle": false,
     "title": ""
    }
   },
   "source": [
    "### 1. Extracting the First Three Characters of a String\n",
    "\n",
    "**Scenario**: You have a DataFrame with product codes, and you want to extract the first three characters of the product code.\n",
    "\n",
    "**Code Example**:"
   ]
  },
  {
   "cell_type": "code",
   "execution_count": 0,
   "metadata": {
    "application/vnd.databricks.v1+cell": {
     "cellMetadata": {
      "byteLimit": 2048000,
      "rowLimit": 10000
     },
     "inputWidgets": {},
     "nuid": "4432ee84-4ce9-468a-b3ba-29de0a7ce45d",
     "showTitle": false,
     "title": ""
    }
   },
   "outputs": [
    {
     "output_type": "stream",
     "name": "stdout",
     "output_type": "stream",
     "text": [
      "+-----------+\n|code_prefix|\n+-----------+\n|        ABC|\n|        XYZ|\n|        LMN|\n+-----------+\n\n"
     ]
    }
   ],
   "source": [
    "from pyspark.sql.functions import substring\n",
    "\n",
    "df = spark.createDataFrame([\n",
    "    (\"ABC12345\",),\n",
    "    (\"XYZ98765\",),\n",
    "    (\"LMN54321\",)\n",
    "], [\"product_code\"])\n",
    "\n",
    "# Extract the first 3 characters of product_code\n",
    "df.select(substring(df.product_code, 1, 3).alias(\"code_prefix\")).show()\n"
   ]
  },
  {
   "cell_type": "markdown",
   "metadata": {
    "application/vnd.databricks.v1+cell": {
     "cellMetadata": {},
     "inputWidgets": {},
     "nuid": "782d746b-ec65-4fc8-9f33-6d9115ea6bd7",
     "showTitle": false,
     "title": ""
    }
   },
   "source": [
    "### 2. Extracting a Substring from the Middle of a String\n",
    "\n",
    "**Scenario**: You want to extract the last five characters from the product codes.\n",
    "\n",
    "**Code Example**:"
   ]
  },
  {
   "cell_type": "code",
   "execution_count": 0,
   "metadata": {
    "application/vnd.databricks.v1+cell": {
     "cellMetadata": {
      "byteLimit": 2048000,
      "rowLimit": 10000
     },
     "inputWidgets": {},
     "nuid": "1313d216-cf38-41de-a536-cba6b8422196",
     "showTitle": false,
     "title": ""
    }
   },
   "outputs": [
    {
     "output_type": "stream",
     "name": "stdout",
     "output_type": "stream",
     "text": [
      "+---------------+\n|last_five_chars|\n+---------------+\n|          12345|\n|          98765|\n|          54321|\n+---------------+\n\n"
     ]
    }
   ],
   "source": [
    "# Extract the last 5 characters of product_code\n",
    "df.select(substring(df.product_code, 4, 5).alias(\"last_five_chars\")).show()\n"
   ]
  },
  {
   "cell_type": "markdown",
   "metadata": {
    "application/vnd.databricks.v1+cell": {
     "cellMetadata": {},
     "inputWidgets": {},
     "nuid": "dbbc3c3d-7613-47c4-b440-a538f34d0fcc",
     "showTitle": false,
     "title": ""
    }
   },
   "source": [
    "### 3. Extracting Substrings Based on a Dynamic Position\n",
    "\n",
    "**Scenario**: You want to extract a dynamic portion of a string where the length is not fixed. For example, extract the first part of the string until a certain character (e.g., extracting everything before the '-' in a product code).\n",
    "\n",
    "**Code Example**:"
   ]
  },
  {
   "cell_type": "code",
   "execution_count": 0,
   "metadata": {
    "application/vnd.databricks.v1+cell": {
     "cellMetadata": {
      "byteLimit": 2048000,
      "rowLimit": 10000
     },
     "inputWidgets": {},
     "nuid": "a9462f4f-6890-45c0-b1f2-5e9ba4d42e36",
     "showTitle": false,
     "title": ""
    }
   },
   "outputs": [
    {
     "output_type": "stream",
     "name": "stdout",
     "output_type": "stream",
     "text": [
      "+------------+------+\n|product_code|prefix|\n+------------+------+\n|    ABC-1234|   ABC|\n|    XYZ-5678|   XYZ|\n|    LMN-9876|   LMN|\n+------------+------+\n\n"
     ]
    }
   ],
   "source": [
    "df_dynamic = spark.createDataFrame([\n",
    "    (\"ABC-1234\",),\n",
    "    (\"XYZ-5678\",),\n",
    "    (\"LMN-9876\",)\n",
    "], [\"product_code\"])\n",
    "\n",
    "# Extract the part before the hyphen\n",
    "df_dynamic.withColumn(\"prefix\", substring(df_dynamic.product_code, 1, 3)).show()\n"
   ]
  },
  {
   "cell_type": "markdown",
   "metadata": {
    "application/vnd.databricks.v1+cell": {
     "cellMetadata": {},
     "inputWidgets": {},
     "nuid": "b88a3158-0ffc-48bf-a15c-10dc20a13928",
     "showTitle": false,
     "title": ""
    }
   },
   "source": [
    "### 4. Using `substring()` for Date Formatting\n",
    "\n",
    "**Scenario**: You have a DataFrame with a date column in the format `YYYY-MM-DD`, and you want to extract the year, month, and day separately.\n",
    "\n",
    "**Code Example**:"
   ]
  },
  {
   "cell_type": "code",
   "execution_count": 0,
   "metadata": {
    "application/vnd.databricks.v1+cell": {
     "cellMetadata": {
      "byteLimit": 2048000,
      "rowLimit": 10000
     },
     "inputWidgets": {},
     "nuid": "d92932eb-3a40-4998-a139-ce3057e0bc62",
     "showTitle": false,
     "title": ""
    }
   },
   "outputs": [
    {
     "output_type": "stream",
     "name": "stdout",
     "output_type": "stream",
     "text": [
      "+----+-----+---+\n|year|month|day|\n+----+-----+---+\n|2023|   10| 12|\n|2022|   05| 06|\n|2024|   01| 01|\n+----+-----+---+\n\n"
     ]
    }
   ],
   "source": [
    "df_dates = spark.createDataFrame([\n",
    "    (\"2023-10-12\",),\n",
    "    (\"2022-05-06\",),\n",
    "    (\"2024-01-01\",)\n",
    "], [\"date\"])\n",
    "\n",
    "# Extract year, month, and day using substring\n",
    "df_dates.select(\n",
    "    substring(df_dates.date, 1, 4).alias(\"year\"),\n",
    "    substring(df_dates.date, 6, 2).alias(\"month\"),\n",
    "    substring(df_dates.date, 9, 2).alias(\"day\")\n",
    ").show()\n"
   ]
  },
  {
   "cell_type": "markdown",
   "metadata": {
    "application/vnd.databricks.v1+cell": {
     "cellMetadata": {},
     "inputWidgets": {},
     "nuid": "8d1e3c96-91af-454b-b6cb-42f94330e62e",
     "showTitle": false,
     "title": ""
    }
   },
   "source": [
    "### 5. Combining `substring()` with Other Functions\n",
    "\n",
    "**Scenario**: You want to extract part of a string and combine it with other transformations, such as adding a prefix or suffix.\n",
    "\n",
    "**Code Example**:"
   ]
  },
  {
   "cell_type": "code",
   "execution_count": 0,
   "metadata": {
    "application/vnd.databricks.v1+cell": {
     "cellMetadata": {
      "byteLimit": 2048000,
      "rowLimit": 10000
     },
     "inputWidgets": {},
     "nuid": "d5015af3-fadf-4b61-bd2e-90f70b3aefd6",
     "showTitle": false,
     "title": ""
    }
   },
   "outputs": [
    {
     "output_type": "stream",
     "name": "stdout",
     "output_type": "stream",
     "text": [
      "+--------+\n|new_code|\n+--------+\n|CODE_ABC|\n|CODE_XYZ|\n|CODE_LMN|\n+--------+\n\n"
     ]
    }
   ],
   "source": [
    "from pyspark.sql.functions import lit, concat\n",
    "\n",
    "# Extract the first 3 characters and add a prefix\n",
    "df.select(concat(lit(\"CODE_\"), substring(df.product_code, 1, 3)).alias(\"new_code\")).show()\n"
   ]
  }
 ],
 "metadata": {
  "application/vnd.databricks.v1+notebook": {
   "dashboards": [],
   "environmentMetadata": null,
   "language": "python",
   "notebookMetadata": {
    "pythonIndentUnit": 4
   },
   "notebookName": "19_pyspark_substring_function_extracting_substring",
   "widgets": {}
  }
 },
 "nbformat": 4,
 "nbformat_minor": 0
}
