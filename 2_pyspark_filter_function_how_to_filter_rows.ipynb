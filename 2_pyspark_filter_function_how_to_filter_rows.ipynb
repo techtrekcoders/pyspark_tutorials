{
 "cells": [
  {
   "cell_type": "markdown",
   "metadata": {
    "application/vnd.databricks.v1+cell": {
     "cellMetadata": {},
     "inputWidgets": {},
     "nuid": "51751e0b-d9bb-4b6f-8592-58aa8f095f2a",
     "showTitle": false,
     "title": ""
    }
   },
   "source": [
    "# PySpark SQL filter() Function: How to Filter Rows"
   ]
  },
  {
   "cell_type": "markdown",
   "metadata": {
    "application/vnd.databricks.v1+cell": {
     "cellMetadata": {},
     "inputWidgets": {},
     "nuid": "77a9e970-1d9f-4904-9930-2dbaf5183110",
     "showTitle": false,
     "title": ""
    }
   },
   "source": [
    "# Introduction to the `filter()` Function\n",
    "\n",
    "The `filter()` function in PySpark is used to filter rows from a DataFrame based on a specified condition. It’s similar to the `WHERE` clause in SQL and allows you to apply logical conditions to remove rows that don’t match the criteria.\n"
   ]
  },
  {
   "cell_type": "markdown",
   "metadata": {
    "application/vnd.databricks.v1+cell": {
     "cellMetadata": {},
     "inputWidgets": {},
     "nuid": "d9a790b6-652f-41f1-b99d-e8aa1aab0590",
     "showTitle": false,
     "title": ""
    }
   },
   "source": [
    "## Basic Syntax:"
   ]
  },
  {
   "cell_type": "markdown",
   "metadata": {
    "application/vnd.databricks.v1+cell": {
     "cellMetadata": {},
     "inputWidgets": {},
     "nuid": "1dc4e4bb-b0e0-4302-bf6e-b3fd06641776",
     "showTitle": false,
     "title": ""
    }
   },
   "source": [
    "```\n",
    "DataFrame.filter(condition)\n",
    "```\n",
    "\n",
    "Where condition is any valid expression that evaluates to True or False.\n"
   ]
  },
  {
   "cell_type": "markdown",
   "metadata": {
    "application/vnd.databricks.v1+cell": {
     "cellMetadata": {},
     "inputWidgets": {},
     "nuid": "158fe681-13c5-4ca1-95e6-b22edb80fc53",
     "showTitle": false,
     "title": ""
    }
   },
   "source": [
    "## How It Works\n",
    "\n",
    "The `filter()` function checks each row of the DataFrame, and if the row satisfies the condition, it will be retained in the resulting DataFrame. Otherwise, it will be filtered out.\n"
   ]
  },
  {
   "cell_type": "markdown",
   "metadata": {
    "application/vnd.databricks.v1+cell": {
     "cellMetadata": {},
     "inputWidgets": {},
     "nuid": "2a0eb855-6ede-4713-a2d2-5abe30286a59",
     "showTitle": false,
     "title": ""
    }
   },
   "source": [
    "# Practical Examples"
   ]
  },
  {
   "cell_type": "markdown",
   "metadata": {
    "application/vnd.databricks.v1+cell": {
     "cellMetadata": {},
     "inputWidgets": {},
     "nuid": "10ab1d0b-1c14-473f-b6e6-7dca19897efa",
     "showTitle": false,
     "title": ""
    }
   },
   "source": [
    "### 1. Basic Filtering: Simple Condition\n",
    "\n",
    "**Scenario**: You have a DataFrame with employee salary data, and you want to filter out employees earning more than $3,000.\n",
    "\n",
    "**Code Example**:"
   ]
  },
  {
   "cell_type": "code",
   "execution_count": 0,
   "metadata": {
    "application/vnd.databricks.v1+cell": {
     "cellMetadata": {
      "byteLimit": 2048000,
      "rowLimit": 10000
     },
     "inputWidgets": {},
     "nuid": "371b13f2-1341-4903-bb2b-62233715f417",
     "showTitle": false,
     "title": ""
    }
   },
   "outputs": [
    {
     "output_type": "stream",
     "name": "stdout",
     "output_type": "stream",
     "text": [
      "+-----------+----+------+\n|EMPLOYEE_ID|NAME|SALARY|\n+-----------+----+------+\n|          2|Jane|  4000|\n|          3| Tom|  3500|\n+-----------+----+------+\n\n"
     ]
    }
   ],
   "source": [
    "df = spark.createDataFrame([\n",
    "    (1, \"John\", 2500),\n",
    "    (2, \"Jane\", 4000),\n",
    "    (3, \"Tom\", 3500)\n",
    "], [\"EMPLOYEE_ID\", \"NAME\", \"SALARY\"])\n",
    "\n",
    "# Filter employees with SALARY > 3000\n",
    "df.filter(df.SALARY > 3000).show()\n"
   ]
  },
  {
   "cell_type": "markdown",
   "metadata": {
    "application/vnd.databricks.v1+cell": {
     "cellMetadata": {},
     "inputWidgets": {},
     "nuid": "3b2c156f-388e-47e8-95db-1a6a861b609c",
     "showTitle": false,
     "title": ""
    }
   },
   "source": [
    "### 2. Filtering Using Multiple Conditions\n",
    "\n",
    "**Scenario**: You want to filter employees whose salary is greater than $3,000 and less than $4,000.\n",
    "\n",
    "**Code Example**:"
   ]
  },
  {
   "cell_type": "code",
   "execution_count": 0,
   "metadata": {
    "application/vnd.databricks.v1+cell": {
     "cellMetadata": {
      "byteLimit": 2048000,
      "rowLimit": 10000
     },
     "inputWidgets": {},
     "nuid": "fc2571ff-7db2-49f7-9576-3b06e8651722",
     "showTitle": false,
     "title": ""
    }
   },
   "outputs": [
    {
     "output_type": "stream",
     "name": "stdout",
     "output_type": "stream",
     "text": [
      "+-----------+----+------+\n|EMPLOYEE_ID|NAME|SALARY|\n+-----------+----+------+\n|          3| Tom|  3500|\n+-----------+----+------+\n\n"
     ]
    }
   ],
   "source": [
    "# Filter employees with salary between 3000 and 4000\n",
    "df.filter((df.SALARY > 3000) & (df.SALARY < 4000)).show()\n"
   ]
  },
  {
   "cell_type": "markdown",
   "metadata": {
    "application/vnd.databricks.v1+cell": {
     "cellMetadata": {},
     "inputWidgets": {},
     "nuid": "4443375e-c829-4103-ae3a-d0ed4050381c",
     "showTitle": false,
     "title": ""
    }
   },
   "source": [
    "### 3. Filtering Using String Conditions\n",
    "\n",
    "**Scenario**: You want to filter out employees whose names start with the letter \"J.\"\n",
    "\n",
    "**Code Example**:"
   ]
  },
  {
   "cell_type": "code",
   "execution_count": 0,
   "metadata": {
    "application/vnd.databricks.v1+cell": {
     "cellMetadata": {
      "byteLimit": 2048000,
      "rowLimit": 10000
     },
     "inputWidgets": {},
     "nuid": "00db119f-3ee0-4e85-80f8-f6ccd454da51",
     "showTitle": false,
     "title": ""
    }
   },
   "outputs": [
    {
     "output_type": "stream",
     "name": "stdout",
     "output_type": "stream",
     "text": [
      "+-----------+----+------+\n|EMPLOYEE_ID|NAME|SALARY|\n+-----------+----+------+\n|          1|John|  2500|\n|          2|Jane|  4000|\n+-----------+----+------+\n\n"
     ]
    }
   ],
   "source": [
    "# Filter employees whose names start with 'J'\n",
    "df.filter(df.NAME.startswith(\"J\")).show()\n"
   ]
  },
  {
   "cell_type": "markdown",
   "metadata": {
    "application/vnd.databricks.v1+cell": {
     "cellMetadata": {},
     "inputWidgets": {},
     "nuid": "8e8e8b62-bb21-4df8-9557-fe677b31b23e",
     "showTitle": false,
     "title": ""
    }
   },
   "source": [
    "### 4. Filtering Using `isin()` Function\n",
    "\n",
    "**Scenario**: You have a list of employee names, and you want to filter out rows where the employee name is in this list.\n",
    "\n",
    "**Code Example**:"
   ]
  },
  {
   "cell_type": "code",
   "execution_count": 0,
   "metadata": {
    "application/vnd.databricks.v1+cell": {
     "cellMetadata": {
      "byteLimit": 2048000,
      "rowLimit": 10000
     },
     "inputWidgets": {},
     "nuid": "930cd943-ea34-4ee2-a205-c4ce31fb8393",
     "showTitle": false,
     "title": ""
    }
   },
   "outputs": [
    {
     "output_type": "stream",
     "name": "stdout",
     "output_type": "stream",
     "text": [
      "+-----------+----+------+\n|EMPLOYEE_ID|NAME|SALARY|\n+-----------+----+------+\n|          1|John|  2500|\n|          3| Tom|  3500|\n+-----------+----+------+\n\n"
     ]
    }
   ],
   "source": [
    "# Filter employees whose names are in the given list\n",
    "df.filter(df.NAME.isin(\"John\", \"Tom\")).show()\n"
   ]
  },
  {
   "cell_type": "markdown",
   "metadata": {
    "application/vnd.databricks.v1+cell": {
     "cellMetadata": {},
     "inputWidgets": {},
     "nuid": "78dab06e-e69b-426c-baf9-12c6b971ce0c",
     "showTitle": false,
     "title": ""
    }
   },
   "source": [
    "### 5. Filtering Null Values\n",
    "\n",
    "**Scenario**: You want to filter rows where the `Salary` column is null or not null.\n",
    "\n",
    "**Code Example**:"
   ]
  },
  {
   "cell_type": "code",
   "execution_count": 0,
   "metadata": {
    "application/vnd.databricks.v1+cell": {
     "cellMetadata": {
      "byteLimit": 2048000,
      "rowLimit": 10000
     },
     "inputWidgets": {},
     "nuid": "bd9b8252-71a2-42f2-b224-166899714b38",
     "showTitle": false,
     "title": ""
    }
   },
   "outputs": [
    {
     "output_type": "stream",
     "name": "stdout",
     "output_type": "stream",
     "text": [
      "+-----------+----+------+\n|EMPLOYEE_ID|NAME|SALARY|\n+-----------+----+------+\n|          1|John|  2500|\n|          3| Tom|  3500|\n+-----------+----+------+\n\n+-----------+----+------+\n|EMPLOYEE_ID|NAME|SALARY|\n+-----------+----+------+\n|          2|Jane|  null|\n+-----------+----+------+\n\n"
     ]
    }
   ],
   "source": [
    "df_with_null = spark.createDataFrame([\n",
    "    (1, \"John\", 2500),\n",
    "    (2, \"Jane\", None),\n",
    "    (3, \"Tom\", 3500)\n",
    "], [\"EMPLOYEE_ID\", \"NAME\", \"SALARY\"])\n",
    "\n",
    "# Filter rows where SALARY is not null\n",
    "df_with_null.filter(df_with_null.SALARY.isNotNull()).show()\n",
    "\n",
    "# Filter rows where SALARY is null\n",
    "df_with_null.filter(df_with_null.SALARY.isNull()).show()\n"
   ]
  },
  {
   "cell_type": "markdown",
   "metadata": {
    "application/vnd.databricks.v1+cell": {
     "cellMetadata": {},
     "inputWidgets": {},
     "nuid": "bc8d0240-ae94-46ee-8b35-f159bd82322a",
     "showTitle": false,
     "title": ""
    }
   },
   "source": [
    "### 6. Filtering Using SQL-like Expressions\n",
    "\n",
    "**Scenario**: You prefer to write SQL-like expressions within your filter statement.\n",
    "\n",
    "**Code Example**:"
   ]
  },
  {
   "cell_type": "code",
   "execution_count": 0,
   "metadata": {
    "application/vnd.databricks.v1+cell": {
     "cellMetadata": {
      "byteLimit": 2048000,
      "rowLimit": 10000
     },
     "inputWidgets": {},
     "nuid": "40414d5e-b7c9-4518-99ce-4d8e87e1a0df",
     "showTitle": false,
     "title": ""
    }
   },
   "outputs": [
    {
     "output_type": "stream",
     "name": "stdout",
     "output_type": "stream",
     "text": [
      "+-----------+----+------+\n|EMPLOYEE_ID|NAME|SALARY|\n+-----------+----+------+\n|          3| Tom|  3500|\n+-----------+----+------+\n\n"
     ]
    }
   ],
   "source": [
    "# Use SQL-like syntax in filter()\n",
    "df.filter(\"SALARY > 3000 AND SALARY < 4000\").show()\n"
   ]
  },
  {
   "cell_type": "markdown",
   "metadata": {
    "application/vnd.databricks.v1+cell": {
     "cellMetadata": {},
     "inputWidgets": {},
     "nuid": "b2f3e8c8-99fd-451f-9e67-1a663eb33a77",
     "showTitle": false,
     "title": ""
    }
   },
   "source": [
    "### 7. Filtering with Complex Expressions\n",
    "\n",
    "**Scenario**: You want to filter employees based on multiple conditions, such as a specific name and a salary range.\n",
    "\n",
    "**Code Example**:"
   ]
  },
  {
   "cell_type": "code",
   "execution_count": 0,
   "metadata": {
    "application/vnd.databricks.v1+cell": {
     "cellMetadata": {
      "byteLimit": 2048000,
      "rowLimit": 10000
     },
     "inputWidgets": {},
     "nuid": "99b97937-1f5e-43cc-9c8e-19b800dd8169",
     "showTitle": false,
     "title": ""
    }
   },
   "outputs": [
    {
     "output_type": "stream",
     "name": "stdout",
     "output_type": "stream",
     "text": [
      "+-----------+----+------+\n|EMPLOYEE_ID|NAME|SALARY|\n+-----------+----+------+\n|          3| Tom|  3500|\n+-----------+----+------+\n\n"
     ]
    }
   ],
   "source": [
    "# Complex filtering: employee name is 'Tom' and salary > 3000\n",
    "df.filter((df.NAME == \"Tom\") & (df.SALARY > 3000)).show()\n"
   ]
  }
 ],
 "metadata": {
  "application/vnd.databricks.v1+notebook": {
   "dashboards": [],
   "environmentMetadata": null,
   "language": "python",
   "notebookMetadata": {
    "pythonIndentUnit": 4
   },
   "notebookName": "2_pyspark_filter_function_how_to_filter_rows",
   "widgets": {}
  }
 },
 "nbformat": 4,
 "nbformat_minor": 0
}
