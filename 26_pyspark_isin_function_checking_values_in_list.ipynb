{
 "cells": [
  {
   "cell_type": "markdown",
   "metadata": {
    "application/vnd.databricks.v1+cell": {
     "cellMetadata": {},
     "inputWidgets": {},
     "nuid": "917cd110-ecfa-4614-89c1-aa48059cd0a8",
     "showTitle": false,
     "title": ""
    }
   },
   "source": [
    "# PySpark SQL isin() Function: Checking Values in a List Easily"
   ]
  },
  {
   "cell_type": "markdown",
   "metadata": {
    "application/vnd.databricks.v1+cell": {
     "cellMetadata": {},
     "inputWidgets": {},
     "nuid": "41304f49-5c36-455d-be61-56011de3f772",
     "showTitle": false,
     "title": ""
    }
   },
   "source": [
    "## Introduction to the `isin()` Function\n",
    "\n",
    "The `isin()` function in PySpark is used to check whether a column's value exists in a given list of values. It works like an SQL `IN` clause, allowing you to filter rows where a column's value is present in the provided list. This function is especially useful when you want to match a column's value against a set of predefined options or categories.\n"
   ]
  },
  {
   "cell_type": "markdown",
   "metadata": {
    "application/vnd.databricks.v1+cell": {
     "cellMetadata": {},
     "inputWidgets": {},
     "nuid": "a828f7c5-6111-4ae0-a43e-d74042d8fa03",
     "showTitle": false,
     "title": ""
    }
   },
   "source": [
    "## Basic Syntax:"
   ]
  },
  {
   "cell_type": "markdown",
   "metadata": {
    "application/vnd.databricks.v1+cell": {
     "cellMetadata": {},
     "inputWidgets": {},
     "nuid": "acd9a5ae-eca2-4318-8a05-ecd2825cc0e6",
     "showTitle": false,
     "title": ""
    }
   },
   "source": [
    "```\n",
    "DataFrame.filter(column.isin(list_of_values))\n",
    "```\n",
    "\n",
    "### Parameters:\n",
    "\n",
    "- **`column`**: The column to check.\n",
    "- **`list_of_values`**: The list of values to match the column against.\n"
   ]
  },
  {
   "cell_type": "markdown",
   "metadata": {
    "application/vnd.databricks.v1+cell": {
     "cellMetadata": {},
     "inputWidgets": {},
     "nuid": "86990410-0c6f-4c1d-ba13-f4577f43fb68",
     "showTitle": false,
     "title": ""
    }
   },
   "source": [
    "## Why Use `isin()`?\n",
    "\n",
    "- It simplifies filtering based on a set of values and is often used for filtering rows based on specific categories, IDs, or other predefined lists.\n",
    "- It can be more efficient and readable than chaining multiple equality conditions, especially when working with large datasets or multiple values.\n"
   ]
  },
  {
   "cell_type": "markdown",
   "metadata": {
    "application/vnd.databricks.v1+cell": {
     "cellMetadata": {},
     "inputWidgets": {},
     "nuid": "808b6e1c-1c50-4336-8196-06a6c5269642",
     "showTitle": false,
     "title": ""
    }
   },
   "source": [
    "## Practical Examples"
   ]
  },
  {
   "cell_type": "markdown",
   "metadata": {
    "application/vnd.databricks.v1+cell": {
     "cellMetadata": {},
     "inputWidgets": {},
     "nuid": "fd86d9ff-7d74-486a-8c38-fdeefb97cc1c",
     "showTitle": false,
     "title": ""
    }
   },
   "source": [
    "### 1. Filtering Rows Based on a List of Values\n",
    "\n",
    "**Scenario**: You have a DataFrame with product names, and you want to filter for only \"Product A\" and \"Product C\".\n",
    "\n",
    "**Code Example**:"
   ]
  },
  {
   "cell_type": "code",
   "execution_count": 0,
   "metadata": {
    "application/vnd.databricks.v1+cell": {
     "cellMetadata": {
      "byteLimit": 2048000,
      "rowLimit": 10000
     },
     "inputWidgets": {},
     "nuid": "35c5400e-9c3e-4600-8975-109a84d008f8",
     "showTitle": false,
     "title": ""
    }
   },
   "outputs": [
    {
     "output_type": "stream",
     "name": "stdout",
     "output_type": "stream",
     "text": [
      "+------------+-----+\n|product_name|sales|\n+------------+-----+\n|   Product A|  500|\n|   Product C|  700|\n+------------+-----+\n\n"
     ]
    }
   ],
   "source": [
    "df = spark.createDataFrame([\n",
    "    (\"Product A\", 500),\n",
    "    (\"Product B\", 300),\n",
    "    (\"Product C\", 700)\n",
    "], [\"product_name\", \"sales\"])\n",
    "\n",
    "# Filter rows where product_name is in the given list\n",
    "df.filter(df.product_name.isin(\"Product A\", \"Product C\")).show()\n"
   ]
  },
  {
   "cell_type": "markdown",
   "metadata": {
    "application/vnd.databricks.v1+cell": {
     "cellMetadata": {},
     "inputWidgets": {},
     "nuid": "5754e928-398f-4441-b53b-9fb5ab8fc781",
     "showTitle": false,
     "title": ""
    }
   },
   "source": [
    "### 2. Using a Python List with `isin()`\n",
    "\n",
    "**Scenario**: Instead of hardcoding the values directly, you have a Python list containing the products you want to filter.\n",
    "\n",
    "**Code Example**:"
   ]
  },
  {
   "cell_type": "code",
   "execution_count": 0,
   "metadata": {
    "application/vnd.databricks.v1+cell": {
     "cellMetadata": {
      "byteLimit": 2048000,
      "rowLimit": 10000
     },
     "inputWidgets": {},
     "nuid": "17577f1f-9f57-4352-bddc-b41ff4c02fb5",
     "showTitle": false,
     "title": ""
    }
   },
   "outputs": [
    {
     "output_type": "stream",
     "name": "stdout",
     "output_type": "stream",
     "text": [
      "+------------+-----+\n|product_name|sales|\n+------------+-----+\n|   Product A|  500|\n|   Product C|  700|\n+------------+-----+\n\n"
     ]
    }
   ],
   "source": [
    "# Define a Python list of products\n",
    "product_list = [\"Product A\", \"Product C\"]\n",
    "\n",
    "# Use the Python list with isin()\n",
    "df.filter(df.product_name.isin(product_list)).show()\n"
   ]
  },
  {
   "cell_type": "markdown",
   "metadata": {
    "application/vnd.databricks.v1+cell": {
     "cellMetadata": {},
     "inputWidgets": {},
     "nuid": "35739a24-87f2-4417-a08b-01ad776edd9a",
     "showTitle": false,
     "title": ""
    }
   },
   "source": [
    "### 3. Combining `isin()` with Other Filters\n",
    "\n",
    "**Scenario**: You want to filter rows where the product name is either \"Product A\" or \"Product C\", and the sales are greater than 400.\n",
    "\n",
    "**Code Example**:"
   ]
  },
  {
   "cell_type": "code",
   "execution_count": 0,
   "metadata": {
    "application/vnd.databricks.v1+cell": {
     "cellMetadata": {
      "byteLimit": 2048000,
      "rowLimit": 10000
     },
     "inputWidgets": {},
     "nuid": "cdb96aa9-6f36-4600-ac92-c7cb0d8283ae",
     "showTitle": false,
     "title": ""
    }
   },
   "outputs": [
    {
     "output_type": "stream",
     "name": "stdout",
     "output_type": "stream",
     "text": [
      "+------------+-----+\n|product_name|sales|\n+------------+-----+\n|   Product A|  500|\n|   Product C|  700|\n+------------+-----+\n\n"
     ]
    }
   ],
   "source": [
    "# Combine isin() with another condition\n",
    "df.filter(df.product_name.isin(\"Product A\", \"Product C\") & (df.sales > 400)).show()\n"
   ]
  },
  {
   "cell_type": "markdown",
   "metadata": {
    "application/vnd.databricks.v1+cell": {
     "cellMetadata": {},
     "inputWidgets": {},
     "nuid": "3696766c-8209-48bf-90e6-fcd85df92460",
     "showTitle": false,
     "title": ""
    }
   },
   "source": [
    "### 4. Using `isin()` with Multiple Columns\n",
    "\n",
    "**Scenario**: You want to check if values from multiple columns are present in different lists.\n",
    "\n",
    "**Code Example**:"
   ]
  },
  {
   "cell_type": "code",
   "execution_count": 0,
   "metadata": {
    "application/vnd.databricks.v1+cell": {
     "cellMetadata": {
      "byteLimit": 2048000,
      "rowLimit": 10000
     },
     "inputWidgets": {},
     "nuid": "c02d06f3-7962-40ea-84c9-81edb347ebfc",
     "showTitle": false,
     "title": ""
    }
   },
   "outputs": [
    {
     "output_type": "stream",
     "name": "stdout",
     "output_type": "stream",
     "text": [
      "+------------+----------+-----+\n|product_name|  category|sales|\n+------------+----------+-----+\n|   Product A|Category 1|  500|\n|   Product C|Category 1|  700|\n+------------+----------+-----+\n\n"
     ]
    }
   ],
   "source": [
    "df_multi = spark.createDataFrame([\n",
    "    (\"Product A\", \"Category 1\", 500),\n",
    "    (\"Product B\", \"Category 2\", 300),\n",
    "    (\"Product C\", \"Category 1\", 700)\n",
    "], [\"product_name\", \"category\", \"sales\"])\n",
    "\n",
    "# Check if product_name and category match different lists\n",
    "df_multi.filter(\n",
    "    df_multi.product_name.isin(\"Product A\", \"Product C\") &\n",
    "    df_multi.category.isin(\"Category 1\")\n",
    ").show()\n"
   ]
  },
  {
   "cell_type": "markdown",
   "metadata": {
    "application/vnd.databricks.v1+cell": {
     "cellMetadata": {},
     "inputWidgets": {},
     "nuid": "1a10a863-0426-4643-b030-6f767e3e89f8",
     "showTitle": false,
     "title": ""
    }
   },
   "source": [
    "### 5. Using `isin()` to Filter Numeric Columns\n",
    "\n",
    "**Scenario**: You want to filter rows where the sales value is in a predefined list of numbers.\n",
    "\n",
    "**Code Example**:"
   ]
  },
  {
   "cell_type": "code",
   "execution_count": 0,
   "metadata": {
    "application/vnd.databricks.v1+cell": {
     "cellMetadata": {
      "byteLimit": 2048000,
      "rowLimit": 10000
     },
     "inputWidgets": {},
     "nuid": "d04502a1-47cd-4b32-b767-4bd809ac8ced",
     "showTitle": false,
     "title": ""
    }
   },
   "outputs": [
    {
     "output_type": "stream",
     "name": "stdout",
     "output_type": "stream",
     "text": [
      "+------------+-----+\n|product_name|sales|\n+------------+-----+\n|   Product A|  500|\n|   Product B|  300|\n+------------+-----+\n\n"
     ]
    }
   ],
   "source": [
    "# Filter rows where sales are in the list of values\n",
    "df.filter(df.sales.isin(300, 500)).show()\n"
   ]
  },
  {
   "cell_type": "markdown",
   "metadata": {
    "application/vnd.databricks.v1+cell": {
     "cellMetadata": {},
     "inputWidgets": {},
     "nuid": "89692cff-7043-4ec1-a86b-8f97dfcdb890",
     "showTitle": false,
     "title": ""
    }
   },
   "source": [
    "### 6. Handling Null Values in `isin()`\n",
    "\n",
    "**Scenario**: You have a DataFrame with null values, and you want to use `isin()` while handling nulls appropriately.\n",
    "\n",
    "**Code Example**:"
   ]
  },
  {
   "cell_type": "code",
   "execution_count": 0,
   "metadata": {
    "application/vnd.databricks.v1+cell": {
     "cellMetadata": {
      "byteLimit": 2048000,
      "rowLimit": 10000
     },
     "inputWidgets": {},
     "nuid": "5b88c9a0-c029-4888-b5e4-b8deba66c126",
     "showTitle": false,
     "title": ""
    }
   },
   "outputs": [
    {
     "output_type": "stream",
     "name": "stdout",
     "output_type": "stream",
     "text": [
      "+------------+-----+\n|product_name|sales|\n+------------+-----+\n|   Product A|  500|\n|   Product C|  700|\n+------------+-----+\n\n"
     ]
    }
   ],
   "source": [
    "df_with_nulls = spark.createDataFrame([\n",
    "    (\"Product A\", 500),\n",
    "    (\"Product B\", None),\n",
    "    (\"Product C\", 700)\n",
    "], [\"product_name\", \"sales\"])\n",
    "\n",
    "# Use isin() and handle null values\n",
    "df_with_nulls.filter(df_with_nulls.sales.isin(500, 700)).show()\n"
   ]
  }
 ],
 "metadata": {
  "application/vnd.databricks.v1+notebook": {
   "dashboards": [],
   "environmentMetadata": null,
   "language": "python",
   "notebookMetadata": {
    "pythonIndentUnit": 4
   },
   "notebookName": "26_pyspark_isin_function_checking_values_in_list",
   "widgets": {}
  }
 },
 "nbformat": 4,
 "nbformat_minor": 0
}
